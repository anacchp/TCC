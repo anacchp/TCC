{
 "cells": [
  {
   "cell_type": "markdown",
   "metadata": {},
   "source": [
    "# Pré Processamento dos dados\n",
    "\n",
    "# Ana Carolina Chebel Pelissari"
   ]
  },
  {
   "cell_type": "markdown",
   "metadata": {},
   "source": [
    "# <font color='blue'>Importação das bibliotecas necessárias</font>"
   ]
  },
  {
   "cell_type": "code",
   "execution_count": 1,
   "metadata": {},
   "outputs": [],
   "source": [
    "%matplotlib inline\n",
    "import numpy as np\n",
    "import pandas as pd\n",
    "import matplotlib.pyplot as plt\n",
    "import os\n",
    "from  matplotlib.ticker import PercentFormatter\n",
    "import matplotlib.ticker as ticker\n",
    "import seaborn as sns\n",
    "import math"
   ]
  },
  {
   "cell_type": "markdown",
   "metadata": {},
   "source": [
    "# <font color='blue'>Criação das funções</font>"
   ]
  },
  {
   "cell_type": "code",
   "execution_count": 2,
   "metadata": {},
   "outputs": [],
   "source": [
    "# Função que gera um histograma que mostra o numero de valores NaN para cada coluna.\n",
    "def plot_hist_nan(df, plot_name):\n",
    "        \n",
    "    nan_df = pd.DataFrame(df.isna().sum().tolist(), df.columns.tolist()).reset_index()\n",
    "    nan_df.columns = ['column_name', 'total_nan']\n",
    "    nan_df['nan_perc'] = 100*round(nan_df['total_nan']/len(df),3)\n",
    "    nan_df = nan_df.sort_values('total_nan', ascending=False)\n",
    "    nan_df = nan_df[nan_df['total_nan'] > 0]\n",
    "    \n",
    "    fig, ax = plt.subplots(figsize=(10,8))\n",
    "    \n",
    "    sns.barplot(x=\"nan_perc\", y=\"column_name\", data=nan_df)\n",
    "    ax.set_ylabel('Colunas', fontsize = 15)\n",
    "    ax.set_xlabel('NaN %', fontsize = 15)    \n",
    "    ax.tick_params(length=10, width=2, labelsize=15)\n",
    "    \n",
    "    dst = \"../out/\"\n",
    "    if os.path.isdir(dst) == False:\n",
    "        os.makedirs(dst)\n",
    "    dst = dst + \"/\" + plot_name + \".pdf\"\n",
    "    plt.savefig(dst, bbox_inches = 'tight')\n",
    "    \n",
    "    plt.show()"
   ]
  },
  {
   "cell_type": "code",
   "execution_count": 3,
   "metadata": {},
   "outputs": [],
   "source": [
    "def plot_class_distribution(df: pd.DataFrame):\n",
    "    values = df.groupby('morte_menor_28d')['morte_menor_28d'].count()\n",
    "    n_samples = df.shape[0]\n",
    "    \n",
    "    plt.figure(figsize=(10,6))\n",
    "    labels = ['Alive', 'Death']\n",
    "    explode = (0, 0.4) \n",
    "    colors = ['#66b3ff','#ff9999']\n",
    "\n",
    "    plt.pie(values, colors = colors, autopct='%1.1f%%',\n",
    "        startangle=90, pctdistance=0.85, explode=explode)\n",
    "\n",
    "    plt.legend(labels,loc=1)\n",
    "\n",
    "    centre_circle = plt.Circle((0,0),0.50,fc='white')\n",
    "    fig = plt.gcf()\n",
    "    fig.gca().add_artist(centre_circle)  \n",
    "    plt.tight_layout()\n",
    "\n",
    "    fig.text(0.42, 0.5, \"{} samples\".format(n_samples), style='italic', fontsize=12)\n",
    "    plt.show()"
   ]
  },
  {
   "cell_type": "markdown",
   "metadata": {},
   "source": [
    "# <font color='blue'>Importação do arquivo csv como dataframe</font>"
   ]
  },
  {
   "cell_type": "markdown",
   "metadata": {},
   "source": [
    "Link da Base de dados : https://doi.org/10.7303/syn22240254"
   ]
  },
  {
   "cell_type": "code",
   "execution_count": 9,
   "metadata": {},
   "outputs": [],
   "source": [
    "#path = '../../data/df_cat_and_num.csv'\n",
    "path = 'spneodeath.csv'\n",
    "df = pd.read_csv(path, low_memory=False)"
   ]
  },
  {
   "cell_type": "code",
   "execution_count": 11,
   "metadata": {},
   "outputs": [],
   "source": [
    "df.rename(columns={'tp_birth_place': 'n_tp_ocorrencia',\n",
    "                   'maternal_age': 'n_nu_idade', \n",
    "                   'tp_marital_status': 'n_tp_estado_civil', \n",
    "                   'tp_maternal_education_years': 'n_tp_escolaridade',\n",
    "                   'num_live_births': 'n_qt_nascidos_vivos',\n",
    "                   'num_fetal_losses': 'n_qt_nascidos_mortos',\n",
    "                   'tp_pregnancy_duration': 'n_tp_gestacao',\n",
    "                   'tp_pregnancy': 'n_tp_gravidez',\n",
    "                   'tp_labor': 'n_tp_parto',\n",
    "                   'tp_prenatal_appointments': 'n_tp_prenatal',\n",
    "                   'cd_apgar1': 'n_nu_apgar1',\n",
    "                   'cd_apgar5': 'n_nu_apgar5',\n",
    "                   'newborn_weight': 'n_nu_peso',\n",
    "                   'has_congenital_malformation': 'n_st_malformacao',\n",
    "                   'tp_maternal_skin_color': 'n_tp_raca_cor_mae',\n",
    "                   'num_gestations': 'n_qt_gestacao_anterior',\n",
    "                   'num_normal_labors': 'n_qt_parto_normal',\n",
    "                   'num_cesarean_labors': 'n_qt_parto_cesarea',\n",
    "                   'num_gestational_weeks': 'n_nu_semana_gestacao',\n",
    "                   'tp_presentation_newborn': 'n_tp_apresentacao',\n",
    "                   'tp_childbirth_assistance': 'n_tp_nascimento_assistido',\n",
    "                   'tp_fill_form_responsible': 'n_tp_funcao_responsavel',\n",
    "                   'cd_robson_group': 'n_tp_grupo_robson',\n",
    "                   'neonatal_death': 'morte_menor_28d'},\n",
    "                   inplace=True)"
   ]
  },
  {
   "cell_type": "code",
   "execution_count": 12,
   "metadata": {},
   "outputs": [
    {
     "data": {
      "text/plain": [
       "Index(['n_tp_ocorrencia', 'n_nu_idade', 'n_tp_estado_civil',\n",
       "       'n_tp_escolaridade', 'n_qt_nascidos_vivos', 'n_qt_nascidos_mortos',\n",
       "       'n_tp_gestacao', 'n_tp_gravidez', 'n_tp_parto', 'n_tp_prenatal',\n",
       "       'n_nu_apgar1', 'n_nu_apgar5', 'n_nu_peso', 'n_st_malformacao',\n",
       "       'n_tp_raca_cor_mae', 'n_qt_gestacao_anterior', 'n_qt_parto_normal',\n",
       "       'n_qt_parto_cesarea', 'n_nu_semana_gestacao', 'n_tp_apresentacao',\n",
       "       'n_tp_nascimento_assistido', 'n_tp_funcao_responsavel',\n",
       "       'n_tp_grupo_robson', 'morte_menor_28d'],\n",
       "      dtype='object')"
      ]
     },
     "execution_count": 12,
     "metadata": {},
     "output_type": "execute_result"
    }
   ],
   "source": [
    "df.columns"
   ]
  },
  {
   "cell_type": "code",
   "execution_count": 13,
   "metadata": {},
   "outputs": [
    {
     "name": "stdout",
     "output_type": "stream",
     "text": [
      "The dataset has 1435834 many rows and 24 columns\n"
     ]
    }
   ],
   "source": [
    "print(\"The dataset has {} many rows and {} columns\".format(df.shape[0], df.shape[1]))"
   ]
  },
  {
   "cell_type": "markdown",
   "metadata": {},
   "source": [
    "<a id='minor_data_prep'></a>\n",
    "# <font color='blue'>Pré Processamento dos dados</font>\n",
    "\n",
    "* Converte o tipo de todas as colunas para inteiro(int);\n",
    "* Substitui valores NaN(faltantes) e valores que não são válidos na categorização, pela moda/média de cada coluna;"
   ]
  },
  {
   "cell_type": "code",
   "execution_count": 14,
   "metadata": {
    "scrolled": true
   },
   "outputs": [
    {
     "name": "stdout",
     "output_type": "stream",
     "text": [
      "Column: n_tp_ocorrencia - Type: int64\n",
      "[1 3 2 4]\n",
      "\n",
      "\n",
      "Column: n_nu_idade - Type: int64\n",
      "[32 40 31 19 33 28 27 34 29 26 16 37 25 35 23 24 41 38 20 21 18 17 22 36\n",
      " 30 15 39 43 45 42 14 44 50 13 46 51 48 47 54 49 12 55 58 52 56 57 53 11\n",
      " 59 10 63 60]\n",
      "\n",
      "\n",
      "Column: n_tp_estado_civil - Type: float64\n",
      "[ 2.  1.  5.  4. nan  3.  9.]\n",
      "\n",
      "\n",
      "Column: n_tp_escolaridade - Type: float64\n",
      "[ 4.  3.  5.  2.  1. nan  0.  9.]\n",
      "\n",
      "\n",
      "Column: n_qt_nascidos_vivos - Type: int64\n",
      "[ 1  4  2  5  0  3  6  8 10  7  9 12 13 11 14 15 18]\n",
      "\n",
      "\n",
      "Column: n_qt_nascidos_mortos - Type: int64\n",
      "[ 0  1  2  3 10  4  5 11  6  7  9 18 13  8 17 12 14 19]\n",
      "\n",
      "\n",
      "Column: n_tp_gestacao - Type: float64\n",
      "[ 5.  4. nan  6.  2.  3.  1.]\n",
      "\n",
      "\n",
      "Column: n_tp_gravidez - Type: float64\n",
      "[ 1.  2.  3. nan]\n",
      "\n",
      "\n",
      "Column: n_tp_parto - Type: float64\n",
      "[ 2.  1. nan]\n",
      "\n",
      "\n",
      "Column: n_tp_prenatal - Type: int64\n",
      "[4 2 3 1]\n",
      "\n",
      "\n",
      "Column: n_nu_apgar1 - Type: int64\n",
      "[ 9  8 10  4  7  3  6  5  1  0  2]\n",
      "\n",
      "\n",
      "Column: n_nu_apgar5 - Type: int64\n",
      "[10  9  8  7  2  6  0  5  3  1  4]\n",
      "\n",
      "\n",
      "Column: n_nu_peso - Type: int64\n",
      "[3655 3540 3015 ... 1124 2111 3879]\n",
      "\n",
      "\n",
      "Column: n_st_malformacao - Type: float64\n",
      "[ 2.  1. nan  9.]\n",
      "\n",
      "\n",
      "Column: n_tp_raca_cor_mae - Type: float64\n",
      "[ 1.  4.  2. nan  3.  5.]\n",
      "\n",
      "\n",
      "Column: n_qt_gestacao_anterior - Type: int64\n",
      "[ 1  5  2  0  4  3  6 11 10  7  8  9 12 16 27 13 15 14 19 38 20 21 17 39\n",
      " 22 30]\n",
      "\n",
      "\n",
      "Column: n_qt_parto_normal - Type: int64\n",
      "[ 0  4  2  5  1  3  8  6 10  7  9 11 12 13 37 33 20 14 32 38 17 22 30 25\n",
      " 15 40 23 21 18 41 80]\n",
      "\n",
      "\n",
      "Column: n_qt_parto_cesarea - Type: int64\n",
      "[ 1  0  2  5  3  4 40 10  7 30 22 20  6  8 11 23 21 14 80 41 36 25 12]\n",
      "\n",
      "\n",
      "Column: n_nu_semana_gestacao - Type: int64\n",
      "[39 40 38 36 35 37 41 42 22 30 34 33 25 28 26 43 44 23 29 32 31 20 27 45\n",
      " 24 21 19 15 17 46]\n",
      "\n",
      "\n",
      "Column: n_tp_apresentacao - Type: float64\n",
      "[ 1.  2. nan  3.]\n",
      "\n",
      "\n",
      "Column: n_tp_nascimento_assistido - Type: float64\n",
      "[ 1.  2. nan  4.  3.]\n",
      "\n",
      "\n",
      "Column: n_tp_funcao_responsavel - Type: float64\n",
      "[ 5.  2. nan  1.  3.  4.]\n",
      "\n",
      "\n",
      "Column: n_tp_grupo_robson - Type: float64\n",
      "[ 5.  7.  4.  3.  2. nan 10. 11.  1.  6.  8.  9.]\n",
      "\n",
      "\n",
      "Column: morte_menor_28d - Type: int64\n",
      "[0 1]\n",
      "\n",
      "\n"
     ]
    }
   ],
   "source": [
    "# Printa os valores únicos de cada coluna\n",
    "cols = df.columns\n",
    "for col in cols:\n",
    "    print('Column: {} - Type: {}'.format(col, df[col].dtypes))\n",
    "    print(df[col].unique())\n",
    "    print('\\n')"
   ]
  },
  {
   "cell_type": "code",
   "execution_count": 15,
   "metadata": {},
   "outputs": [],
   "source": [
    "# Conversão de todos os valores de todas as colunas em valores inteiros. \n",
    "# Convertendo os valores com string vazias em NaN.\n",
    "\n",
    "cols = df.columns\n",
    "\n",
    "for col in cols:\n",
    "    if col:\n",
    "        df[col] = pd.to_numeric(df[col], errors='coerce')\n",
    "        df[col] = df[col].astype('Int64')"
   ]
  },
  {
   "cell_type": "code",
   "execution_count": 16,
   "metadata": {},
   "outputs": [],
   "source": [
    "nan_df = pd.DataFrame(df.isna().sum().tolist(), df.columns.tolist()).reset_index()\n",
    "nan_df.columns = ['nome_da_coluna', 'total_nan']\n",
    "nan_df['porc_nan'] = 100*round(nan_df['total_nan']/len(df),5)\n",
    "nan_df = nan_df.sort_values('total_nan', ascending=False)\n",
    "nan_df = nan_df[nan_df['total_nan'] > 0]\n",
    "#nan_df = nan_df.tail(12)"
   ]
  },
  {
   "cell_type": "code",
   "execution_count": 17,
   "metadata": {},
   "outputs": [
    {
     "data": {
      "text/html": [
       "<div>\n",
       "<style scoped>\n",
       "    .dataframe tbody tr th:only-of-type {\n",
       "        vertical-align: middle;\n",
       "    }\n",
       "\n",
       "    .dataframe tbody tr th {\n",
       "        vertical-align: top;\n",
       "    }\n",
       "\n",
       "    .dataframe thead th {\n",
       "        text-align: right;\n",
       "    }\n",
       "</style>\n",
       "<table border=\"1\" class=\"dataframe\">\n",
       "  <thead>\n",
       "    <tr style=\"text-align: right;\">\n",
       "      <th></th>\n",
       "      <th>nome_da_coluna</th>\n",
       "      <th>total_nan</th>\n",
       "      <th>porc_nan</th>\n",
       "    </tr>\n",
       "  </thead>\n",
       "  <tbody>\n",
       "    <tr>\n",
       "      <td>21</td>\n",
       "      <td>n_tp_funcao_responsavel</td>\n",
       "      <td>153768</td>\n",
       "      <td>10.709</td>\n",
       "    </tr>\n",
       "    <tr>\n",
       "      <td>14</td>\n",
       "      <td>n_tp_raca_cor_mae</td>\n",
       "      <td>153240</td>\n",
       "      <td>10.673</td>\n",
       "    </tr>\n",
       "    <tr>\n",
       "      <td>19</td>\n",
       "      <td>n_tp_apresentacao</td>\n",
       "      <td>153190</td>\n",
       "      <td>10.669</td>\n",
       "    </tr>\n",
       "    <tr>\n",
       "      <td>20</td>\n",
       "      <td>n_tp_nascimento_assistido</td>\n",
       "      <td>153180</td>\n",
       "      <td>10.668</td>\n",
       "    </tr>\n",
       "    <tr>\n",
       "      <td>22</td>\n",
       "      <td>n_tp_grupo_robson</td>\n",
       "      <td>139434</td>\n",
       "      <td>9.711</td>\n",
       "    </tr>\n",
       "    <tr>\n",
       "      <td>6</td>\n",
       "      <td>n_tp_gestacao</td>\n",
       "      <td>1692</td>\n",
       "      <td>0.118</td>\n",
       "    </tr>\n",
       "    <tr>\n",
       "      <td>2</td>\n",
       "      <td>n_tp_estado_civil</td>\n",
       "      <td>1348</td>\n",
       "      <td>0.094</td>\n",
       "    </tr>\n",
       "    <tr>\n",
       "      <td>3</td>\n",
       "      <td>n_tp_escolaridade</td>\n",
       "      <td>579</td>\n",
       "      <td>0.040</td>\n",
       "    </tr>\n",
       "    <tr>\n",
       "      <td>13</td>\n",
       "      <td>n_st_malformacao</td>\n",
       "      <td>272</td>\n",
       "      <td>0.019</td>\n",
       "    </tr>\n",
       "    <tr>\n",
       "      <td>8</td>\n",
       "      <td>n_tp_parto</td>\n",
       "      <td>34</td>\n",
       "      <td>0.002</td>\n",
       "    </tr>\n",
       "    <tr>\n",
       "      <td>7</td>\n",
       "      <td>n_tp_gravidez</td>\n",
       "      <td>30</td>\n",
       "      <td>0.002</td>\n",
       "    </tr>\n",
       "  </tbody>\n",
       "</table>\n",
       "</div>"
      ],
      "text/plain": [
       "               nome_da_coluna  total_nan  porc_nan\n",
       "21    n_tp_funcao_responsavel     153768    10.709\n",
       "14          n_tp_raca_cor_mae     153240    10.673\n",
       "19          n_tp_apresentacao     153190    10.669\n",
       "20  n_tp_nascimento_assistido     153180    10.668\n",
       "22          n_tp_grupo_robson     139434     9.711\n",
       "6               n_tp_gestacao       1692     0.118\n",
       "2           n_tp_estado_civil       1348     0.094\n",
       "3           n_tp_escolaridade        579     0.040\n",
       "13           n_st_malformacao        272     0.019\n",
       "8                  n_tp_parto         34     0.002\n",
       "7               n_tp_gravidez         30     0.002"
      ]
     },
     "execution_count": 17,
     "metadata": {},
     "output_type": "execute_result"
    }
   ],
   "source": [
    "nan_df"
   ]
  },
  {
   "cell_type": "code",
   "execution_count": 18,
   "metadata": {
    "scrolled": true
   },
   "outputs": [
    {
     "data": {
      "image/png": "[encoded data removed]",
      "text/plain": [
       "<Figure size 720x576 with 1 Axes>"
      ]
     },
     "metadata": {
      "needs_background": "light"
     },
     "output_type": "display_data"
    }
   ],
   "source": [
    "# Como as strings vazias foram convertidas em valores NaN, segue um gráfico apresentando a quantidade de valores NaN.\n",
    "\n",
    "plot_hist_nan(df[df.columns], 'barplot_nan')"
   ]
  },
  {
   "cell_type": "code",
   "execution_count": 20,
   "metadata": {},
   "outputs": [],
   "source": [
    "# As colunas que tem pelo menos 1 valor NaN, terão este valor substituido pela moda/média da própria coluna.\n",
    "\n",
    "cols_nan = ['n_tp_funcao_responsavel', 'n_tp_raca_cor_mae', 'n_tp_apresentacao', 'n_tp_nascimento_assistido',\n",
    "            'n_tp_grupo_robson', 'n_tp_gestacao', 'n_tp_estado_civil', 'n_tp_escolaridade',\n",
    "            'n_st_malformacao', 'n_tp_parto', 'n_tp_gravidez']\n",
    "\n",
    "cols_df = df.columns\n",
    "\n",
    "for col in cols_df:\n",
    "    df[col].replace([0,9], df[col].mode()[0], inplace=True)\n",
    "\n",
    "for col in cols_nan:\n",
    "    df[col] = df[col].fillna(df[col].mode()[0])\n",
    "    \n",
    "#df['o_sg_sexo'].replace(['I'], df['o_sg_sexo'].mode()[0], inplace=True)"
   ]
  },
  {
   "cell_type": "code",
   "execution_count": 21,
   "metadata": {},
   "outputs": [],
   "source": [
    "cols = df.columns\n",
    "\n",
    "for col in cols:\n",
    "    if col:\n",
    "        df[col] = df[col].astype('int64')"
   ]
  },
  {
   "cell_type": "code",
   "execution_count": 23,
   "metadata": {},
   "outputs": [],
   "source": [
    "df.to_csv('df_neonatal_sao_paulo.csv')"
   ]
  }
 ],
 "metadata": {
  "alphastudio": {
   "as_jupyter_image_name": "gcr.io/ts-quantsource/as-jupyter-v6",
   "as_jupyter_image_tag": "89a867672844"
  },
  "kernelspec": {
   "display_name": "Python 3",
   "language": "python",
   "name": "python3"
  },
  "language_info": {
   "codemirror_mode": {
    "name": "ipython",
    "version": 3
   },
   "file_extension": ".py",
   "mimetype": "text/x-python",
   "name": "python",
   "nbconvert_exporter": "python",
   "pygments_lexer": "ipython3",
   "version": "3.7.4"
  },
  "publish_permission": {
   "read": {},
   "write": {
    "user": [
     "jlandesman",
     "gwp"
    ]
   }
  },
  "publish_uri": "tsuri/application/ts/beakerx/jlandesman/Week1ProjectWalkthrough.ipynb",
  "toc": {
   "base_numbering": 1,
   "nav_menu": {},
   "number_sections": false,
   "sideBar": false,
   "skip_h1_title": false,
   "title_cell": "Table of Contents",
   "title_sidebar": "Contents",
   "toc_cell": false,
   "toc_position": {},
   "toc_section_display": false,
   "toc_window_display": false
  },
  "widgets": {
   "application/vnd.jupyter.widget-state+json": {
    "state": {},
    "version_major": 2,
    "version_minor": 0
   }
  }
 },
 "nbformat": 4,
 "nbformat_minor": 2
}
